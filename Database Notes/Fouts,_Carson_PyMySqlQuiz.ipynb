{
  "nbformat": 4,
  "nbformat_minor": 0,
  "metadata": {
    "colab": {
      "provenance": []
    },
    "kernelspec": {
      "name": "python3",
      "display_name": "Python 3"
    },
    "language_info": {
      "name": "python"
    }
  },
  "cells": [
    {
      "cell_type": "code",
      "execution_count": 7,
      "metadata": {
        "colab": {
          "base_uri": "https://localhost:8080/"
        },
        "id": "knrHy-F3QZCh",
        "outputId": "5aa3408d-4b56-437e-fd55-99fb8cde0f93"
      },
      "outputs": [
        {
          "output_type": "stream",
          "name": "stdout",
          "text": [
            "Requirement already satisfied: pymysql in /usr/local/lib/python3.10/dist-packages (1.1.1)\n"
          ]
        }
      ],
      "source": [
        "!pip install pymysql"
      ]
    },
    {
      "cell_type": "code",
      "source": [
        "import pymysql\n",
        "import getpass\n",
        "import pandas as pd"
      ],
      "metadata": {
        "id": "9-Kneh3AWYZs"
      },
      "execution_count": 6,
      "outputs": []
    },
    {
      "cell_type": "code",
      "source": [
        "connection = pymysql.connect(\n",
        "    host='appstate-cs3430.mysql.database.azure.com',\n",
        "    user='foutscm',\n",
        "    passwd=getpass.getpass('Please type your password: '),\n",
        "    db='foutscm',\n",
        "    port=3306\n",
        ")\n",
        "\n",
        "cursor = connection.cursor()"
      ],
      "metadata": {
        "colab": {
          "base_uri": "https://localhost:8080/"
        },
        "id": "tnTUu3ZsVbMp",
        "outputId": "29c85f6e-5bb0-4806-f246-851de8835a80"
      },
      "execution_count": 14,
      "outputs": [
        {
          "name": "stdout",
          "output_type": "stream",
          "text": [
            "Please type your password: ··········\n"
          ]
        }
      ]
    },
    {
      "cell_type": "code",
      "source": [
        "sql = \"\"\"\n",
        "CREATE TABLE exams (\n",
        "    gender VARCHAR(7),\n",
        "    race_ethnicity VARCHAR(10),\n",
        "    parental_level_of_education VARCHAR(50),\n",
        "    lunch VARCHAR(20),\n",
        "    test_preparation_course VARCHAR(20),\n",
        "    math_score INT,\n",
        "    reading_score INT,\n",
        "    writing_score INT\n",
        ");\n",
        "\"\"\"\n",
        "\n",
        "cursor.execute(sql)\n",
        "\n",
        "DataFrame = pd.read_csv(\"/exams.csv\")\n",
        "list = DataFrame.values.tolist()\n",
        "\n",
        "cursor.executemany('INSERT INTO exams VALUES (%s, %s, %s, %s, %s, %s, %s, %s);', list)\n",
        "\n",
        "connection.commit()"
      ],
      "metadata": {
        "id": "TCbahQnGRdXh"
      },
      "execution_count": 24,
      "outputs": []
    },
    {
      "cell_type": "code",
      "source": [
        "sql_query = \"\"\"\n",
        "SELECT\n",
        "    gender,\n",
        "    race_ethnicity,\n",
        "    AVG(math_score) AS avg_math_score,\n",
        "    AVG(reading_score) AS avg_reading_score,\n",
        "    AVG(writing_score) AS avg_writing_score\n",
        "FROM\n",
        "    exams\n",
        "GROUP BY\n",
        "    gender,\n",
        "    race_ethnicity\n",
        "ORDER BY\n",
        "    race_ethnicity,\n",
        "    gender;\n",
        "\"\"\"\n",
        "\n",
        "cursor.execute(sql_query)\n",
        "\n",
        "DataFrameFinal = pd.read_sql(sql_query, connection)\n",
        "DataFrameFinal.to_csv(\"/finaldf.csv\")\n",
        "\n",
        "connection.commit()"
      ],
      "metadata": {
        "colab": {
          "base_uri": "https://localhost:8080/"
        },
        "id": "98hLRJq0XRDK",
        "outputId": "85f88631-d52f-4e00-ccf4-8980a9b489b1"
      },
      "execution_count": 25,
      "outputs": [
        {
          "output_type": "stream",
          "name": "stderr",
          "text": [
            "<ipython-input-25-22d564522d37>:20: UserWarning: pandas only supports SQLAlchemy connectable (engine/connection) or database string URI or sqlite3 DBAPI2 connection. Other DBAPI2 objects are not tested. Please consider using SQLAlchemy.\n",
            "  DataFrameFinal = pd.read_sql(sql_query, connection)\n"
          ]
        }
      ]
    },
    {
      "cell_type": "code",
      "source": [
        "sql_drop= \"\"\"\n",
        "drop table if exists exams;\n",
        "\"\"\"\n",
        "\n",
        "cursor.execute(sql_drop)"
      ],
      "metadata": {
        "colab": {
          "base_uri": "https://localhost:8080/"
        },
        "id": "1sgvWJqYeFGO",
        "outputId": "f0e07338-0782-4ef4-e886-7943cca40a5d"
      },
      "execution_count": 23,
      "outputs": [
        {
          "output_type": "execute_result",
          "data": {
            "text/plain": [
              "0"
            ]
          },
          "metadata": {},
          "execution_count": 23
        }
      ]
    }
  ]
}